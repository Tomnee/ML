{
 "cells": [
  {
   "cell_type": "markdown",
   "metadata": {},
   "source": [
    "# 基于朴素贝叶斯的垃圾邮件分类"
   ]
  },
  {
   "cell_type": "markdown",
   "metadata": {},
   "source": [
    "使用sklearn包下的朴素贝叶斯算法，它包含三种模型——高斯模型、多项式模型和伯努利模型，详情可以参考[朴素贝叶斯 — scikit-learn 0.18.1 documentation](http://sklearn.lzjqsdd.com/modules/naive_bayes.html)。  \n",
    "本文将使用贝叶斯多项式模型类来解决英文邮件分类的问题。"
   ]
  },
  {
   "cell_type": "markdown",
   "metadata": {},
   "source": [
    "# 导入各种包"
   ]
  },
  {
   "cell_type": "code",
   "execution_count": 1,
   "metadata": {},
   "outputs": [],
   "source": [
    "import nltk\n",
    "import numpy as np\n",
    "import pandas as pd\n",
    "import matplotlib.pyplot as plt\n",
    "\n",
    "from tqdm import tqdm_notebook\n",
    "from wordcloud import WordCloud\n",
    "from sklearn.metrics import roc_curve, auc\n",
    "from sklearn.naive_bayes import MultinomialNB\n",
    "from sklearn.model_selection import train_test_split\n",
    "from sklearn.feature_extraction.text import CountVectorizer, TfidfTransformer\n",
    "\n",
    "from nltk.corpus import stopwords\n",
    "from nltk.stem import WordNetLemmatizer\n",
    "from nltk.tokenize import word_tokenize, RegexpTokenizer\n",
    "\n",
    "%matplotlib inline"
   ]
  },
  {
   "cell_type": "markdown",
   "metadata": {},
   "source": [
    "# 数据集"
   ]
  },
  {
   "cell_type": "markdown",
   "metadata": {},
   "source": [
    "数据来自[Spam Mails Dataset kaggle](https://www.kaggle.com/venky73/spam-mails-dataset)，其中正常邮件标记为ham/0，垃圾邮件为spam/1"
   ]
  },
  {
   "cell_type": "code",
   "execution_count": 2,
   "metadata": {},
   "outputs": [
    {
     "data": {
      "text/html": [
       "<div>\n",
       "<style scoped>\n",
       "    .dataframe tbody tr th:only-of-type {\n",
       "        vertical-align: middle;\n",
       "    }\n",
       "\n",
       "    .dataframe tbody tr th {\n",
       "        vertical-align: top;\n",
       "    }\n",
       "\n",
       "    .dataframe thead th {\n",
       "        text-align: right;\n",
       "    }\n",
       "</style>\n",
       "<table border=\"1\" class=\"dataframe\">\n",
       "  <thead>\n",
       "    <tr style=\"text-align: right;\">\n",
       "      <th></th>\n",
       "      <th>label</th>\n",
       "      <th>text</th>\n",
       "      <th>label_num</th>\n",
       "    </tr>\n",
       "  </thead>\n",
       "  <tbody>\n",
       "    <tr>\n",
       "      <th>0</th>\n",
       "      <td>ham</td>\n",
       "      <td>Subject: enron methanol ; meter # : 988291\\r\\n...</td>\n",
       "      <td>0</td>\n",
       "    </tr>\n",
       "    <tr>\n",
       "      <th>1</th>\n",
       "      <td>ham</td>\n",
       "      <td>Subject: hpl nom for january 9 , 2001\\r\\n( see...</td>\n",
       "      <td>0</td>\n",
       "    </tr>\n",
       "    <tr>\n",
       "      <th>2</th>\n",
       "      <td>ham</td>\n",
       "      <td>Subject: neon retreat\\r\\nho ho ho , we ' re ar...</td>\n",
       "      <td>0</td>\n",
       "    </tr>\n",
       "    <tr>\n",
       "      <th>3</th>\n",
       "      <td>spam</td>\n",
       "      <td>Subject: photoshop , windows , office . cheap ...</td>\n",
       "      <td>1</td>\n",
       "    </tr>\n",
       "    <tr>\n",
       "      <th>4</th>\n",
       "      <td>ham</td>\n",
       "      <td>Subject: re : indian springs\\r\\nthis deal is t...</td>\n",
       "      <td>0</td>\n",
       "    </tr>\n",
       "  </tbody>\n",
       "</table>\n",
       "</div>"
      ],
      "text/plain": [
       "  label                                               text  label_num\n",
       "0   ham  Subject: enron methanol ; meter # : 988291\\r\\n...          0\n",
       "1   ham  Subject: hpl nom for january 9 , 2001\\r\\n( see...          0\n",
       "2   ham  Subject: neon retreat\\r\\nho ho ho , we ' re ar...          0\n",
       "3  spam  Subject: photoshop , windows , office . cheap ...          1\n",
       "4   ham  Subject: re : indian springs\\r\\nthis deal is t...          0"
      ]
     },
     "execution_count": 2,
     "metadata": {},
     "output_type": "execute_result"
    }
   ],
   "source": [
    "data = pd.read_csv('spam_ham_dataset.csv')\n",
    "data = data.iloc[:, 1:]\n",
    "data.head()"
   ]
  },
  {
   "cell_type": "code",
   "execution_count": 3,
   "metadata": {},
   "outputs": [
    {
     "name": "stdout",
     "output_type": "stream",
     "text": [
      "<class 'pandas.core.frame.DataFrame'>\n",
      "RangeIndex: 5171 entries, 0 to 5170\n",
      "Data columns (total 3 columns):\n",
      "label        5171 non-null object\n",
      "text         5171 non-null object\n",
      "label_num    5171 non-null int64\n",
      "dtypes: int64(1), object(2)\n",
      "memory usage: 121.3+ KB\n"
     ]
    }
   ],
   "source": [
    "data.info()"
   ]
  },
  {
   "cell_type": "code",
   "execution_count": 4,
   "metadata": {
    "scrolled": true
   },
   "outputs": [
    {
     "name": "stdout",
     "output_type": "stream",
     "text": [
      "这份数据包含5171条邮件\n"
     ]
    }
   ],
   "source": [
    "print('这份数据包含{}条邮件'.format(data.shape[0]))"
   ]
  },
  {
   "cell_type": "code",
   "execution_count": 5,
   "metadata": {},
   "outputs": [
    {
     "name": "stdout",
     "output_type": "stream",
     "text": [
      "正常邮件一共有3672条\n",
      "垃圾邮件一共有1499条\n"
     ]
    },
    {
     "data": {
      "text/plain": [
       "<matplotlib.axes._subplots.AxesSubplot at 0x2ac79abca90>"
      ]
     },
     "execution_count": 5,
     "metadata": {},
     "output_type": "execute_result"
    },
    {
     "data": {
      "image/png": "[encoded data removed]",
      "text/plain": [
       "<Figure size 600x400 with 1 Axes>"
      ]
     },
     "metadata": {},
     "output_type": "display_data"
    }
   ],
   "source": [
    "print('正常邮件一共有{}条'.format(data['label_num'].value_counts()[0]))\n",
    "print('垃圾邮件一共有{}条'.format(data['label_num'].value_counts()[1]))\n",
    "\n",
    "plt.style.use('seaborn')\n",
    "plt.figure(figsize=(6, 4), dpi=100)\n",
    "data['label'].value_counts().plot(kind='bar')"
   ]
  },
  {
   "cell_type": "markdown",
   "metadata": {},
   "source": [
    "# 新建DataFrame"
   ]
  },
  {
   "cell_type": "markdown",
   "metadata": {},
   "source": [
    "新建一个DataFrame，所有的处理都在它里面进行"
   ]
  },
  {
   "cell_type": "code",
   "execution_count": 6,
   "metadata": {},
   "outputs": [
    {
     "name": "stdout",
     "output_type": "stream",
     "text": [
      "邮件数量 length = 5171\n"
     ]
    },
    {
     "data": {
      "text/html": [
       "<div>\n",
       "<style scoped>\n",
       "    .dataframe tbody tr th:only-of-type {\n",
       "        vertical-align: middle;\n",
       "    }\n",
       "\n",
       "    .dataframe tbody tr th {\n",
       "        vertical-align: top;\n",
       "    }\n",
       "\n",
       "    .dataframe thead th {\n",
       "        text-align: right;\n",
       "    }\n",
       "</style>\n",
       "<table border=\"1\" class=\"dataframe\">\n",
       "  <thead>\n",
       "    <tr style=\"text-align: right;\">\n",
       "      <th></th>\n",
       "      <th>text</th>\n",
       "      <th>label_num</th>\n",
       "    </tr>\n",
       "  </thead>\n",
       "  <tbody>\n",
       "    <tr>\n",
       "      <th>0</th>\n",
       "      <td>Subject: enron methanol ; meter # : 988291\\r\\n...</td>\n",
       "      <td>0</td>\n",
       "    </tr>\n",
       "    <tr>\n",
       "      <th>1</th>\n",
       "      <td>Subject: hpl nom for january 9 , 2001\\r\\n( see...</td>\n",
       "      <td>0</td>\n",
       "    </tr>\n",
       "    <tr>\n",
       "      <th>2</th>\n",
       "      <td>Subject: neon retreat\\r\\nho ho ho , we ' re ar...</td>\n",
       "      <td>0</td>\n",
       "    </tr>\n",
       "    <tr>\n",
       "      <th>3</th>\n",
       "      <td>Subject: photoshop , windows , office . cheap ...</td>\n",
       "      <td>1</td>\n",
       "    </tr>\n",
       "    <tr>\n",
       "      <th>4</th>\n",
       "      <td>Subject: re : indian springs\\r\\nthis deal is t...</td>\n",
       "      <td>0</td>\n",
       "    </tr>\n",
       "  </tbody>\n",
       "</table>\n",
       "</div>"
      ],
      "text/plain": [
       "                                                text  label_num\n",
       "0  Subject: enron methanol ; meter # : 988291\\r\\n...          0\n",
       "1  Subject: hpl nom for january 9 , 2001\\r\\n( see...          0\n",
       "2  Subject: neon retreat\\r\\nho ho ho , we ' re ar...          0\n",
       "3  Subject: photoshop , windows , office . cheap ...          1\n",
       "4  Subject: re : indian springs\\r\\nthis deal is t...          0"
      ]
     },
     "execution_count": 6,
     "metadata": {},
     "output_type": "execute_result"
    }
   ],
   "source": [
    "# 只需要text与label_num\n",
    "new_data = data.iloc[:, 1:]\n",
    "length = len(new_data)\n",
    "print('邮件数量 length =', length)\n",
    "new_data.head()"
   ]
  },
  {
   "cell_type": "markdown",
   "metadata": {},
   "source": [
    "查看部分具体内容"
   ]
  },
  {
   "cell_type": "code",
   "execution_count": 7,
   "metadata": {
    "collapsed": true
   },
   "outputs": [
    {
     "name": "stdout",
     "output_type": "stream",
     "text": [
      "0 \n",
      " Subject: enron methanol ; meter # : 988291\n",
      "this is a follow up to the note i gave you on monday , 4 / 3 / 00 { preliminary\n",
      "flow data provided by daren } .\n",
      "please override pop ' s daily volume { presently zero } to reflect daily\n",
      "activity you can obtain from gas control .\n",
      "this change is needed asap for economics purposes .\n",
      "1 \n",
      " Subject: hpl nom for january 9 , 2001\n",
      "( see attached file : hplnol 09 . xls )\n",
      "- hplnol 09 . xls\n",
      "2 \n",
      " Subject: neon retreat\n",
      "ho ho ho , we ' re around to that most wonderful time of the year - - - neon leaders retreat time !\n",
      "i know that this time of year is extremely hectic , and that it ' s tough to think about anything past the holidays , but life does go on past the week of december 25 through january 1 , and that ' s what i ' d like you to think about for a minute .\n",
      "on the calender that i handed out at the beginning of the fall semester , the retreat was scheduled for the weekend of january 5 - 6 . but because of a youth ministers conference that brad and dustin are connected with that week , we ' re going to change the date to the following weekend , january 12 - 13 . now comes the part you need to think about .\n",
      "i think we all agree that it ' s important for us to get together and have some time to recharge our batteries before we get to far into the spring semester , but it can be a lot of trouble and difficult for us to get away without kids , etc . so , brad came up with a potential alternative for how we can get together on that weekend , and then you can let me know which you prefer .\n",
      "the first option would be to have a retreat similar to what we ' ve done the past several years . this year we could go to the heartland country inn ( www . . com ) outside of brenham . it ' s a nice place , where we ' d have a 13 - bedroom and a 5 - bedroom house side by side . it ' s in the country , real relaxing , but also close to brenham and only about one hour and 15 minutes from here . we can golf , shop in the antique and craft stores in brenham , eat dinner together at the ranch , and spend time with each other . we ' d meet on saturday , and then return on sunday morning , just like what we ' ve done in the past .\n",
      "the second option would be to stay here in houston , have dinner together at a nice restaurant , and then have dessert and a time for visiting and recharging at one of our homes on that saturday evening . this might be easier , but the trade off would be that we wouldn ' t have as much time together . i ' ll let you decide .\n",
      "email me back with what would be your preference , and of course if you ' re available on that weekend . the democratic process will prevail - - majority vote will rule ! let me hear from you as soon as possible , preferably by the end of the weekend . and if the vote doesn ' t go your way , no complaining allowed ( like i tend to do ! )\n",
      "have a great weekend , great golf , great fishing , great shopping , or whatever makes you happy !\n",
      "bobby\n"
     ]
    }
   ],
   "source": [
    "for i in range(3):\n",
    "    print(i, '\\n', data['text'][i])"
   ]
  },
  {
   "cell_type": "markdown",
   "metadata": {},
   "source": [
    "## 预处理"
   ]
  },
  {
   "cell_type": "markdown",
   "metadata": {},
   "source": [
    "### 大小写"
   ]
  },
  {
   "cell_type": "markdown",
   "metadata": {},
   "source": [
    "邮件中含有大小写，故将先单词替换为小写"
   ]
  },
  {
   "cell_type": "code",
   "execution_count": 8,
   "metadata": {},
   "outputs": [
    {
     "data": {
      "text/html": [
       "<div>\n",
       "<style scoped>\n",
       "    .dataframe tbody tr th:only-of-type {\n",
       "        vertical-align: middle;\n",
       "    }\n",
       "\n",
       "    .dataframe tbody tr th {\n",
       "        vertical-align: top;\n",
       "    }\n",
       "\n",
       "    .dataframe thead th {\n",
       "        text-align: right;\n",
       "    }\n",
       "</style>\n",
       "<table border=\"1\" class=\"dataframe\">\n",
       "  <thead>\n",
       "    <tr style=\"text-align: right;\">\n",
       "      <th></th>\n",
       "      <th>text</th>\n",
       "      <th>label_num</th>\n",
       "    </tr>\n",
       "  </thead>\n",
       "  <tbody>\n",
       "    <tr>\n",
       "      <th>0</th>\n",
       "      <td>subject: enron methanol ; meter # : 988291\\r\\n...</td>\n",
       "      <td>0</td>\n",
       "    </tr>\n",
       "    <tr>\n",
       "      <th>1</th>\n",
       "      <td>subject: hpl nom for january 9 , 2001\\r\\n( see...</td>\n",
       "      <td>0</td>\n",
       "    </tr>\n",
       "    <tr>\n",
       "      <th>2</th>\n",
       "      <td>subject: neon retreat\\r\\nho ho ho , we ' re ar...</td>\n",
       "      <td>0</td>\n",
       "    </tr>\n",
       "    <tr>\n",
       "      <th>3</th>\n",
       "      <td>subject: photoshop , windows , office . cheap ...</td>\n",
       "      <td>1</td>\n",
       "    </tr>\n",
       "    <tr>\n",
       "      <th>4</th>\n",
       "      <td>subject: re : indian springs\\r\\nthis deal is t...</td>\n",
       "      <td>0</td>\n",
       "    </tr>\n",
       "  </tbody>\n",
       "</table>\n",
       "</div>"
      ],
      "text/plain": [
       "                                                text  label_num\n",
       "0  subject: enron methanol ; meter # : 988291\\r\\n...          0\n",
       "1  subject: hpl nom for january 9 , 2001\\r\\n( see...          0\n",
       "2  subject: neon retreat\\r\\nho ho ho , we ' re ar...          0\n",
       "3  subject: photoshop , windows , office . cheap ...          1\n",
       "4  subject: re : indian springs\\r\\nthis deal is t...          0"
      ]
     },
     "execution_count": 8,
     "metadata": {},
     "output_type": "execute_result"
    }
   ],
   "source": [
    "new_data['text'] = new_data['text'].str.lower()\n",
    "new_data.head()"
   ]
  },
  {
   "cell_type": "markdown",
   "metadata": {},
   "source": [
    "### 停用词"
   ]
  },
  {
   "cell_type": "markdown",
   "metadata": {},
   "source": [
    "使用停用词，邮件中出现的you、me、be等单词对分类没有影响，故可以将其禁用。还要注意的是所有邮件的开头中都含有单词subject（主题），我们也将其设为停用词。这里使用自然语言处理工具包nltk下的stopwords"
   ]
  },
  {
   "cell_type": "code",
   "execution_count": 9,
   "metadata": {},
   "outputs": [],
   "source": [
    "stop_words = set(stopwords.words('english'))\n",
    "stop_words.add('subject')"
   ]
  },
  {
   "cell_type": "markdown",
   "metadata": {},
   "source": [
    "### 分词"
   ]
  },
  {
   "cell_type": "markdown",
   "metadata": {},
   "source": [
    "提取一长串句子中的每个单词，并且还要过滤掉各种符号，所以这里使用nltk下的RegexpTokenizer()函数，参数为正则表达式，例如："
   ]
  },
  {
   "cell_type": "code",
   "execution_count": 10,
   "metadata": {},
   "outputs": [
    {
     "data": {
      "text/plain": [
       "['I', 'have', 'a', 'pen', 'I', 'have', 'an', 'apple', 'Uhh', 'Apple', 'pen']"
      ]
     },
     "execution_count": 10,
     "metadata": {},
     "output_type": "execute_result"
    }
   ],
   "source": [
    "string = 'I have a pen,I have an apple. (Uhh~)Apple-pen!' # 来自《PPAP》的歌词\n",
    "RegexpTokenizer('[a-zA-Z]+').tokenize(string) # 过滤了所有的符号，返回一个列表"
   ]
  },
  {
   "cell_type": "markdown",
   "metadata": {},
   "source": [
    "### 词形还原"
   ]
  },
  {
   "cell_type": "markdown",
   "metadata": {},
   "source": [
    "在英语里面，一个单词有不同的时态，比如love与loves，只是时态不同，但是是同一个意思，于是就有了——词形还原与词干提取。而本文使用的词形还原方法。详情可以参考：[词形还原工具对比 · ZMonster's Blog](http://www.zmonster.me/2016/01/21/lemmatization-survey.html)"
   ]
  },
  {
   "cell_type": "markdown",
   "metadata": {},
   "source": [
    "这里先使用nltk包下的WordNetLemmatizer()函数，例如："
   ]
  },
  {
   "cell_type": "code",
   "execution_count": 11,
   "metadata": {},
   "outputs": [
    {
     "name": "stdout",
     "output_type": "stream",
     "text": [
      "loves的原形为love\n"
     ]
    }
   ],
   "source": [
    "word = 'loves'\n",
    "print('{}的原形为{}'.format(word, WordNetLemmatizer().lemmatize(word)))"
   ]
  },
  {
   "cell_type": "markdown",
   "metadata": {},
   "source": [
    "把上面的所有操作一起实现，使用pandas的apply"
   ]
  },
  {
   "cell_type": "code",
   "execution_count": 12,
   "metadata": {},
   "outputs": [],
   "source": [
    "def text_process(text):\n",
    "    tokenizer = RegexpTokenizer('[a-z]+') # 只匹配单词，由于已经全为小写，故可以只写成[a-z]+\n",
    "    lemmatizer = WordNetLemmatizer()\n",
    "    token = tokenizer.tokenize(text) # 分词\n",
    "    token = [lemmatizer.lemmatize(w) for w in token if lemmatizer.lemmatize(w) not in stop_words] # 停用词+词形还原\n",
    "    return token"
   ]
  },
  {
   "cell_type": "code",
   "execution_count": 13,
   "metadata": {},
   "outputs": [],
   "source": [
    "new_data['text'] = new_data['text'].apply(text_process)"
   ]
  },
  {
   "cell_type": "markdown",
   "metadata": {},
   "source": [
    "现在我们得到了一个比较干净的数据集了"
   ]
  },
  {
   "cell_type": "code",
   "execution_count": 14,
   "metadata": {},
   "outputs": [
    {
     "data": {
      "text/html": [
       "<div>\n",
       "<style scoped>\n",
       "    .dataframe tbody tr th:only-of-type {\n",
       "        vertical-align: middle;\n",
       "    }\n",
       "\n",
       "    .dataframe tbody tr th {\n",
       "        vertical-align: top;\n",
       "    }\n",
       "\n",
       "    .dataframe thead th {\n",
       "        text-align: right;\n",
       "    }\n",
       "</style>\n",
       "<table border=\"1\" class=\"dataframe\">\n",
       "  <thead>\n",
       "    <tr style=\"text-align: right;\">\n",
       "      <th></th>\n",
       "      <th>text</th>\n",
       "      <th>label_num</th>\n",
       "    </tr>\n",
       "  </thead>\n",
       "  <tbody>\n",
       "    <tr>\n",
       "      <th>0</th>\n",
       "      <td>[enron, methanol, meter, follow, note, gave, m...</td>\n",
       "      <td>0</td>\n",
       "    </tr>\n",
       "    <tr>\n",
       "      <th>1</th>\n",
       "      <td>[hpl, nom, january, see, attached, file, hplno...</td>\n",
       "      <td>0</td>\n",
       "    </tr>\n",
       "    <tr>\n",
       "      <th>2</th>\n",
       "      <td>[neon, retreat, ho, ho, ho, around, wonderful,...</td>\n",
       "      <td>0</td>\n",
       "    </tr>\n",
       "    <tr>\n",
       "      <th>3</th>\n",
       "      <td>[photoshop, window, office, cheap, main, trend...</td>\n",
       "      <td>1</td>\n",
       "    </tr>\n",
       "    <tr>\n",
       "      <th>4</th>\n",
       "      <td>[indian, spring, deal, book, teco, pvr, revenu...</td>\n",
       "      <td>0</td>\n",
       "    </tr>\n",
       "  </tbody>\n",
       "</table>\n",
       "</div>"
      ],
      "text/plain": [
       "                                                text  label_num\n",
       "0  [enron, methanol, meter, follow, note, gave, m...          0\n",
       "1  [hpl, nom, january, see, attached, file, hplno...          0\n",
       "2  [neon, retreat, ho, ho, ho, around, wonderful,...          0\n",
       "3  [photoshop, window, office, cheap, main, trend...          1\n",
       "4  [indian, spring, deal, book, teco, pvr, revenu...          0"
      ]
     },
     "execution_count": 14,
     "metadata": {},
     "output_type": "execute_result"
    }
   ],
   "source": [
    "new_data.head()"
   ]
  },
  {
   "cell_type": "markdown",
   "metadata": {},
   "source": [
    "# 训练集与测试集"
   ]
  },
  {
   "cell_type": "markdown",
   "metadata": {},
   "source": [
    "将处理后的数据集分为训练集与测试集，比例为3:1"
   ]
  },
  {
   "cell_type": "code",
   "execution_count": 15,
   "metadata": {},
   "outputs": [],
   "source": [
    "seed = 20190524 # 让实验具有重复性\n",
    "X = new_data['text']\n",
    "y = new_data['label_num']\n",
    "\n",
    "X_train, X_test, y_train, y_test = train_test_split(X, y, random_state=seed) # 75%作为训练集与25%作为测试集"
   ]
  },
  {
   "cell_type": "code",
   "execution_count": 16,
   "metadata": {},
   "outputs": [],
   "source": [
    "train = pd.concat([X_train, y_train], axis=1) # 训练集\n",
    "test = pd.concat([X_test, y_test], axis=1) # 测试集\n",
    "\n",
    "train.reset_index(drop=True, inplace=True) # 重设下标\n",
    "test.reset_index(drop=True, inplace=True) # 同上"
   ]
  },
  {
   "cell_type": "code",
   "execution_count": 17,
   "metadata": {},
   "outputs": [
    {
     "name": "stdout",
     "output_type": "stream",
     "text": [
      "训练集含有3878封邮件，测试集含有1293封邮件\n"
     ]
    }
   ],
   "source": [
    "print('训练集含有{}封邮件，测试集含有{}封邮件'.format(train.shape[0], test.shape[0]))"
   ]
  },
  {
   "cell_type": "markdown",
   "metadata": {},
   "source": [
    "训练集中的垃圾邮件与正常邮件的数量"
   ]
  },
  {
   "cell_type": "code",
   "execution_count": 18,
   "metadata": {},
   "outputs": [
    {
     "name": "stdout",
     "output_type": "stream",
     "text": [
      "0    2769\n",
      "1    1109\n",
      "Name: label_num, dtype: int64\n"
     ]
    },
    {
     "data": {
      "text/plain": [
       "<matplotlib.axes._subplots.AxesSubplot at 0x2ac07766f28>"
      ]
     },
     "execution_count": 18,
     "metadata": {},
     "output_type": "execute_result"
    },
    {
     "data": {
      "image/png": "[encoded data removed]",
      "text/plain": [
       "<Figure size 600x400 with 1 Axes>"
      ]
     },
     "metadata": {},
     "output_type": "display_data"
    }
   ],
   "source": [
    "print(train['label_num'].value_counts())\n",
    "plt.figure(figsize=(6, 4), dpi=100)\n",
    "train['label_num'].value_counts().plot(kind='bar')"
   ]
  },
  {
   "cell_type": "markdown",
   "metadata": {},
   "source": [
    "测试集中的垃圾邮件与正常邮件的数量"
   ]
  },
  {
   "cell_type": "code",
   "execution_count": 19,
   "metadata": {
    "scrolled": false
   },
   "outputs": [
    {
     "name": "stdout",
     "output_type": "stream",
     "text": [
      "0    903\n",
      "1    390\n",
      "Name: label_num, dtype: int64\n"
     ]
    },
    {
     "data": {
      "text/plain": [
       "<matplotlib.axes._subplots.AxesSubplot at 0x2ac0777df28>"
      ]
     },
     "execution_count": 19,
     "metadata": {},
     "output_type": "execute_result"
    },
    {
     "data": {
      "image/png": "[encoded data removed]",
      "text/plain": [
       "<Figure size 600x400 with 1 Axes>"
      ]
     },
     "metadata": {},
     "output_type": "display_data"
    }
   ],
   "source": [
    "print(test['label_num'].value_counts())\n",
    "plt.figure(figsize=(6, 4), dpi=100)\n",
    "test['label_num'].value_counts().plot(kind='bar')"
   ]
  },
  {
   "cell_type": "markdown",
   "metadata": {},
   "source": [
    "# 特征工程"
   ]
  },
  {
   "cell_type": "markdown",
   "metadata": {},
   "source": [
    "如果把所有的单词都拿来统计，单词表里面的单词还是比较多的，这样让我们的模型跑起来也是比较慢的，故这里随机抽取正常邮件与垃圾邮件各10封内的单词作为单词表"
   ]
  },
  {
   "cell_type": "code",
   "execution_count": 20,
   "metadata": {},
   "outputs": [],
   "source": [
    "ham_train = train[train['label_num'] == 0] # 正常邮件\n",
    "spam_train = train[train['label_num'] == 1] # 垃圾邮件\n",
    "\n",
    "ham_train_part = ham_train['text'].sample(10, random_state=seed) # 随机抽取的10封正常邮件\n",
    "spam_train_part = spam_train['text'].sample(10, random_state=seed) # 随机抽取的10封垃圾邮件\n",
    "\n",
    "part_words = [] # 部分的单词\n",
    "for text in pd.concat([ham_train_part, spam_train_part]):\n",
    "    part_words += text"
   ]
  },
  {
   "cell_type": "code",
   "execution_count": 21,
   "metadata": {},
   "outputs": [
    {
     "name": "stdout",
     "output_type": "stream",
     "text": [
      "单词表一共有1528个单词\n"
     ]
    }
   ],
   "source": [
    "part_words_set = set(part_words)\n",
    "print('单词表一共有{}个单词'.format(len(part_words_set)))"
   ]
  },
  {
   "cell_type": "markdown",
   "metadata": {},
   "source": [
    "这就大大减少了单词量"
   ]
  },
  {
   "cell_type": "markdown",
   "metadata": {},
   "source": [
    "### CountVectorizer"
   ]
  },
  {
   "cell_type": "markdown",
   "metadata": {},
   "source": [
    "接下来我们要统计每个单词出现的次数，使用sklearn的CountVectorizer()函数，如："
   ]
  },
  {
   "cell_type": "code",
   "execution_count": 22,
   "metadata": {},
   "outputs": [
    {
     "name": "stdout",
     "output_type": "stream",
     "text": [
      "cv.vocabulary_:\n",
      " {'this': 6, 'is': 2, 'the': 5, 'first': 1, 'sentence': 4, 'and': 0, 'second': 3}\n",
      "cv.get_feature_names:\n",
      " ['and', 'first', 'is', 'second', 'sentence', 'the', 'this']\n",
      "count.toarray:\n",
      " [[0 1 1 0 1 1 1]\n",
      " [1 0 1 1 1 1 1]]\n"
     ]
    }
   ],
   "source": [
    "words = ['This is the first sentence', 'And this is the second sentence']\n",
    "cv = CountVectorizer() # 参数lowercase=True，将字母转为小写，但数据已经是小写了\n",
    "count = cv.fit_transform(words)\n",
    "print('cv.vocabulary_:\\n', cv.vocabulary_) # 返回一个字典\n",
    "print('cv.get_feature_names:\\n', cv.get_feature_names()) # 返回一个列表\n",
    "print('count.toarray:\\n', count.toarray()) # 返回序列"
   ]
  },
  {
   "cell_type": "markdown",
   "metadata": {},
   "source": [
    "[0 1 1 0 1 1 1] 对应 ['and', 'first', 'is', 'second', 'sentence', 'the', 'this']，即'first'出现1次，'is'出现1次，如此类推"
   ]
  },
  {
   "cell_type": "markdown",
   "metadata": {},
   "source": [
    "### TfidfTransformer"
   ]
  },
  {
   "cell_type": "markdown",
   "metadata": {},
   "source": [
    "接下来还要计算TF-IDF，它反映了单词在文本中的重要程度。使用sklearn包下的TfidfTransformer()，如："
   ]
  },
  {
   "cell_type": "code",
   "execution_count": 23,
   "metadata": {},
   "outputs": [
    {
     "name": "stdout",
     "output_type": "stream",
     "text": [
      "idf:\n",
      " [1.40546511 1.40546511 1.         1.40546511 1.         1.\n",
      " 1.        ]\n",
      "tfidf:\n",
      " [[0.         0.57496187 0.4090901  0.         0.4090901  0.4090901\n",
      "  0.4090901 ]\n",
      " [0.49844628 0.         0.35464863 0.49844628 0.35464863 0.35464863\n",
      "  0.35464863]]\n"
     ]
    }
   ],
   "source": [
    "tfidf = TfidfTransformer()\n",
    "tfidf_matrix = tfidf.fit_transform(count)\n",
    "print('idf:\\n', tfidf.idf_) # 查看idf\n",
    "print('tfidf:\\n', tfidf_matrix.toarray()) # 查看tf-idf"
   ]
  },
  {
   "cell_type": "markdown",
   "metadata": {},
   "source": [
    "可以看到 [0 1 1 0 1 1 1] 变为了 [0.         0.57496187 0.4090901  0.         0.4090901  0.4090901 0.4090901 ]\n"
   ]
  },
  {
   "cell_type": "markdown",
   "metadata": {},
   "source": [
    "### 添加新一列"
   ]
  },
  {
   "cell_type": "markdown",
   "metadata": {},
   "source": [
    "现在正式开始各种计算，但是开始之前先把单词整理成句子，就是CountVectorizer认识的格式"
   ]
  },
  {
   "cell_type": "code",
   "execution_count": 24,
   "metadata": {},
   "outputs": [],
   "source": [
    "# 将正常邮件与垃圾邮件的单词都整理为句子，单词间以空格相隔，CountVectorizer()的句子里，单词是以空格分隔的\n",
    "train_part_texts = [' '.join(text) for text in np.concatenate((spam_train_part.values, ham_train_part.values))]\n",
    "# 训练集所有的单词整理成句子\n",
    "train_all_texts = [' '.join(text) for text in train['text']]\n",
    "# 测试集所有的单词整理成句子\n",
    "test_all_texts = [' '.join(text) for text in test['text']]"
   ]
  },
  {
   "cell_type": "code",
   "execution_count": 25,
   "metadata": {
    "collapsed": true
   },
   "outputs": [
    {
     "data": {
      "text/plain": [
       "['copy everything easy download disc duplicator saw mill river road suite ardsley new york taken future mailing please see link image load please g oh e r e p box g p shahalam shahalam selangord e malaysia',\n",
       " 'smallcap cribsheet investor alert immediate release investor alert breakout forecast tuesday july ready run running big winner china world trade corp cwtd china world trade corp current price projection day projection day see company president john hui interview cnn asia also look new cnn interview tremendous month company growth completed forward plan dominate china travel industry chinese expedia com china world trade outbid ctrp acquisition new generation southern china largest travel company chairman tsang formerly gold lion holding ha taken rein cwtd continuing record success cwtd stay read news china world trade corporation establishes international business center enhance business service division monday guangzhou china july xinhua prnewswire firstcall china world trade corporation otc bulletin board cwtd news announced today international business center ibc ha commenced operation july support international communication needed company corporate client member additionally ibc assist serving china world trade corporation premier club member business travel various corporate service ibc aim build strong platform play important role integrating business resource company ceo club world trade center club utilize new generation extensive travel network operating system ibc also help china world trade corporation enhance service available company client comprehensive product arrangement international business tour destination intelligence immigration overseas investment consulting service ibc bridge linking china world trade ceo club penetrate business service market china said mr william tsang president chairman china world trade corporation confident become one pioneer business service industry china expect ibc generate new stream revenue amalgamation tailor made service area business consulting immigration investment premium client stoc k ready rock company ha already facilitated money need continue rapid grow disclaimer information within email contains forwardlooking statement within meaning section aof security act section b security exchange act statement express involve discussion respect prediction expectation belief plan projection objective goal assumption future event performance statement historical fact may forward looking statement forward looking statement based expectation estimate projection time statement made involve number risk uncertainty could cause actual result event differ materially presently anticipated forward looking statement action may identified use word project foresee expects anticipates estimate belief understands statement indicating certain action may could might occur risk factor include general economic business condition ability acquire develop specific project ability fund operation change consumer business consumption habit factor overwhich company ha little control publisher newsletter doe represent information contained message state material fact doe omit material fact necessary make statement therein misleading information provided within email pertaining investing stoc k security must understood information provided investment advice publisher newsletter advises reader subscriber seek advice registered professional security representative deciding trade stoc k featured within email none material within report shall construed kind investment advice solicitation many company verge bankruptcy lose money investing stoc k urge read company sec filing invest publisher newsletter registered invstment advisor subscriber view information herein legal tax accounting investment advice compliance securitiesact section b publisher newsletter contracted receive six hundred thousand free trading share third party officer director affiliate shareholder circulation report aware inherent conflict interest resulting compensation due fact paid advertisement without bias party paid u ha position stoc k sell anytime without notice could negative impact price stoc k causing lose money factual information report wa gathered public source including limited sec filing company website company press release publisher newsletter belief information reliable make guarantee accuracy completeness use material within email constitutes acceptance term',\n",
       " 'assimilate promiscuity capricorn barcelona sse conduce programmer cranston festival ryder atrocity baronial pictorial pyroxene tray rube woven spaghetti casualty ferruginous befog acton glans blackfoot bounty alias waterproof hey trouble getting shape summer yvonne moran harmonic skim shred squawbush hail eldest oppenheimer contain electret desk hypothalamus impartial chinquapin foliate normalcy earthworml immediatel bag aniline unchristian sock attendee dalhousie kettle citadel basso maureen sanskrit cried hindu purport valuate track cartwheel diva despondent hyperbola sine butane buildup ouch hateful siena ri montenegrin backpack concentrate saucy wop anaplasmosis componentry ellwood eigenfunction bivalve presumptuous upstater garvey bassinet drink horny stringent description hostelry jesus lindberg risky proficient panama silver indubitable aft brazzaville rejecter divide patina isabella glomerular decorate vasectomy abater philanthrope centum bookseller perfunctory schmitt collocation ready bernard montreal billboard bar rattail graven redhead highfalutin scissor playmate finery lufthansa parallax basket sagittarius enter ephesian burglarproof psychoanalysis forever sandy bias humiliate ameslan rainbow truck introspect leslie upstand software tabu principal loincloth rutabaga coral belch farther sleight peer sketchpad convergent causation honeycomb fundamental homicide hack iberia eloise judiciary buddha fairport idiomatic signature carbonaceous circumscribe fast bequeath scarecrow picnicking',\n",
       " 'looking love tonight great dating site please remove list mythic coupon briton ceremonious uruguay aristocracy riemannian signboard contrariwise germicidal arson bidirectional nihilist cobble self bourgeois sketch ellipsoid blast brewery sulfate aide stimulus sutton individual child doll pen door pasadena brawl cress greta pronunciation profundity vincent counterman airmail swore tenet alumna interpolatory chateau bandwagon knife nepal skyrocket munition centenary andesine panacea satan convert caribou gay implode clergyman homeward lane incredulity baltic',\n",
       " 'backgammon tournament senate foreign relation committee approved rice nomination wednesday despite reservation democrat nonetheless voted acknowledging rice confirmed eventually democrat want show ready fight president second term amid grumbling party leader stand bush first term btl subjectivity irresolute larsen either spike emeriti downgrade alveolus jeopardy borneo party merriam anthropomorphic bassinet benchmark assam storekeep glycine thine sickroom alter dizzy contagious cackle distort batch ingratitude avarice theme horny flirtatious whirligig mizar fiscal clockwatcher gnostic joyride allan emitter paulus burnout begrudge condense southbound dialogue zenith bevel deane defuse buckwheat partial dub bonito inapt clearwater coniferous ascription hard antoine temporal article leatherback necessary withstood possession schubert anus beechwood akin fix rnd bates thomistic abram tofu southpaw prototype breezy debacle catechism transistor commonwealth galaxy respiratory wet fundraise boggle aminobenzoic back bypath exempt collegial saratoga forbear extolling italic radical anecdote rangoon heater showdown delegable ceramium swordplay decontrolling auctioneer vincent levulose voltage orthonormal riemannian declamatory carbondale ann venial portfolio thou axon cambric wind lopez goatherd retentive contraband gruff epsom anguish greengrocer counselor boost yellowstone boyce bold crewman naples cony aspheric cinnabar junk doberman citric exciton buttercup alyssum inn boston countersunk indigestion judicatory indefensible portmanteau proclamation efficacious clan respire jacksonville integument cleanup botany inca polar fungoid ostrander renault bonito baptistery midland sixtieth summate bereave antiquity nit prickle quebec anglo python contravene pride acquisition squaw nitrogenous actinide delta kit banish dishwasher moloch exeter dysentery earphone best aniseikonic showdown allege butt teleprompter tx giantess poach puccini telegram snuff trainman bessie tolstoy modem leeward arrow bialystok stumble edinburgh apostolic jeremy communicant dang ghostly bowman barbarism scribble throughput wisp helpful raucous sober layman refrigerate tautology chinquapin ethnology roustabout flipflop concessionaire controller jose semester accessory cluck insupportable heptane astrophysics deceive ampere advertise cavalcade flashback tempo yeah belgium limpid limerick poetry sprout convince dada export hom showcase snowmobile coworker riot artwork ebb deferrable tektronix resume brocade casteth respiratory corona foster deferent coffee deep shakespearian cranny getaway airflow grindstone republic roy seventy cloudburst herculean capitulate commendation interferometer compellable hothead selfadjoint bipolar osiris mixture wearisome boo wizard allergy razorback xerography innkeeper bugaboo odd corp handwrite edmund wattage dolt paralinguistic digestible acrobat camilla qualitative obvious adobe cyanide strop examine held spout blocky westminster hesitate transfuse worcester pauli nearby impromptu ashmolean councilwoman impartation carven glutinous autumn oratorio microbial ballast aspirin cretin muggy stigma matriarchal colosseum hawthorn upstair aldebaran enunciate timber gladstone amtrak campfire trench vitreous glasgow cartilage evergreen eben knudsen ajar fasciculate runaway acm devolution greta commute systemization medic catharsis mar alligator anion fog diploidy surreptitious din topography gal electrode kuwait quark bellyfull agricultural strict embody grandiose cowpox billow molybdenum dementia czarina conservation algiers thither yeager amherst cue predictor jacket bonze shag shish breadroot fern freshen expenditure along give michele article sturbridge goodyear census tridiagonal attention sob achromatic amort easy ax advance trickster compensate mecca anne collateral downspout infinity abominate legendre coerce amoco kind sad clay ancestral mazurka sprinkle celebrate peal caramel allocable cornflower emerge accurate bantam caviar landfill adenine callahan acquit eccles cyrillic breed diabase mutt shotgun rumple altitude allah die zesty barnabas foliage buttercup grand sharp siliceous cognition inactive edifice kindle alliterate coequal pencil injunct brighton agate delusion abuse dicotyledon hardtop oxide promethium throw longish schizophrenic fitch chaise biharmonic postprocess lanthanide mr blot concurred aborigine isocline extemporaneous wayward genuine aver roomy herald cautious cornucopia adhere fingertip cringe aristotelian scrutable simplify testimony tonsil puffery ago bay acyclic waffle haste sicilian achromatic moluccas occipital heady lowry pfennig smithsonian waive glidden naughty toward simulate kirchoff apposite trudy acclamation ingratitude yeager superannuate bali illustrious adjutant storeroom abate chimney rachmaninoff dietz juncture covet lopez playful shrink del ellipsis administratrix dine azimuthal bedspread restive deportee bordello earl kafkaesque alizarin nazism jackass desolater balkan collegiate thicken draftee breach pyre beauty xylene crude carbide grata ream cameraman aim']"
      ]
     },
     "execution_count": 25,
     "metadata": {},
     "output_type": "execute_result"
    }
   ],
   "source": [
    "train_part_texts[: 5]\n",
    "# train_all_texts[: 5]"
   ]
  },
  {
   "cell_type": "code",
   "execution_count": 26,
   "metadata": {},
   "outputs": [],
   "source": [
    "cv = CountVectorizer()\n",
    "part_fit = cv.fit(train_part_texts) # 以部分句子为参考\n",
    "train_all_count = cv.transform(train_all_texts) # 对训练集所有邮件统计单词个数\n",
    "test_all_count = cv.transform(test_all_texts) # 对测试集所有邮件统计单词个数\n",
    "tfidf = TfidfTransformer()\n",
    "train_tfidf_matrix = tfidf.fit_transform(train_all_count)\n",
    "test_tfidf_matrix = tfidf.fit_transform(test_all_count)"
   ]
  },
  {
   "cell_type": "code",
   "execution_count": 27,
   "metadata": {},
   "outputs": [
    {
     "name": "stdout",
     "output_type": "stream",
     "text": [
      "训练集 (3878, 1513)\n",
      "测试集 (1293, 1513)\n"
     ]
    }
   ],
   "source": [
    "print('训练集', train_tfidf_matrix.shape)\n",
    "print('测试集', test_tfidf_matrix.shape)"
   ]
  },
  {
   "cell_type": "markdown",
   "metadata": {},
   "source": [
    "## Tfidf DataFrame"
   ]
  },
  {
   "cell_type": "markdown",
   "metadata": {},
   "source": [
    "为了让我们的数据看着更舒服一点，创建一个新的DataFrame（可以省略的一步）"
   ]
  },
  {
   "cell_type": "code",
   "execution_count": 79,
   "metadata": {},
   "outputs": [
    {
     "data": {
      "text/html": [
       "<div>\n",
       "<style scoped>\n",
       "    .dataframe tbody tr th:only-of-type {\n",
       "        vertical-align: middle;\n",
       "    }\n",
       "\n",
       "    .dataframe tbody tr th {\n",
       "        vertical-align: top;\n",
       "    }\n",
       "\n",
       "    .dataframe thead th {\n",
       "        text-align: right;\n",
       "    }\n",
       "</style>\n",
       "<table border=\"1\" class=\"dataframe\">\n",
       "  <thead>\n",
       "    <tr style=\"text-align: right;\">\n",
       "      <th></th>\n",
       "      <th>abate</th>\n",
       "      <th>abater</th>\n",
       "      <th>ability</th>\n",
       "      <th>abominate</th>\n",
       "      <th>aborigine</th>\n",
       "      <th>abram</th>\n",
       "      <th>abuse</th>\n",
       "      <th>ac</th>\n",
       "      <th>acceptance</th>\n",
       "      <th>accessory</th>\n",
       "      <th>...</th>\n",
       "      <th>xual</th>\n",
       "      <th>xylene</th>\n",
       "      <th>yeager</th>\n",
       "      <th>yeah</th>\n",
       "      <th>yellowstone</th>\n",
       "      <th>york</th>\n",
       "      <th>yvette</th>\n",
       "      <th>yvonne</th>\n",
       "      <th>zenith</th>\n",
       "      <th>zesty</th>\n",
       "    </tr>\n",
       "  </thead>\n",
       "  <tbody>\n",
       "    <tr>\n",
       "      <th>0</th>\n",
       "      <td>0.0</td>\n",
       "      <td>0.0</td>\n",
       "      <td>0.0</td>\n",
       "      <td>0.0</td>\n",
       "      <td>0.0</td>\n",
       "      <td>0.0</td>\n",
       "      <td>0.0</td>\n",
       "      <td>0.0</td>\n",
       "      <td>0.0</td>\n",
       "      <td>0.0</td>\n",
       "      <td>...</td>\n",
       "      <td>0.0</td>\n",
       "      <td>0.0</td>\n",
       "      <td>0.0</td>\n",
       "      <td>0.0</td>\n",
       "      <td>0.0</td>\n",
       "      <td>0.0</td>\n",
       "      <td>0.0</td>\n",
       "      <td>0.0</td>\n",
       "      <td>0.0</td>\n",
       "      <td>0.0</td>\n",
       "    </tr>\n",
       "    <tr>\n",
       "      <th>1</th>\n",
       "      <td>0.0</td>\n",
       "      <td>0.0</td>\n",
       "      <td>0.0</td>\n",
       "      <td>0.0</td>\n",
       "      <td>0.0</td>\n",
       "      <td>0.0</td>\n",
       "      <td>0.0</td>\n",
       "      <td>0.0</td>\n",
       "      <td>0.0</td>\n",
       "      <td>0.0</td>\n",
       "      <td>...</td>\n",
       "      <td>0.0</td>\n",
       "      <td>0.0</td>\n",
       "      <td>0.0</td>\n",
       "      <td>0.0</td>\n",
       "      <td>0.0</td>\n",
       "      <td>0.0</td>\n",
       "      <td>0.0</td>\n",
       "      <td>0.0</td>\n",
       "      <td>0.0</td>\n",
       "      <td>0.0</td>\n",
       "    </tr>\n",
       "    <tr>\n",
       "      <th>2</th>\n",
       "      <td>0.0</td>\n",
       "      <td>0.0</td>\n",
       "      <td>0.0</td>\n",
       "      <td>0.0</td>\n",
       "      <td>0.0</td>\n",
       "      <td>0.0</td>\n",
       "      <td>0.0</td>\n",
       "      <td>0.0</td>\n",
       "      <td>0.0</td>\n",
       "      <td>0.0</td>\n",
       "      <td>...</td>\n",
       "      <td>0.0</td>\n",
       "      <td>0.0</td>\n",
       "      <td>0.0</td>\n",
       "      <td>0.0</td>\n",
       "      <td>0.0</td>\n",
       "      <td>0.0</td>\n",
       "      <td>0.0</td>\n",
       "      <td>0.0</td>\n",
       "      <td>0.0</td>\n",
       "      <td>0.0</td>\n",
       "    </tr>\n",
       "    <tr>\n",
       "      <th>3</th>\n",
       "      <td>0.0</td>\n",
       "      <td>0.0</td>\n",
       "      <td>0.0</td>\n",
       "      <td>0.0</td>\n",
       "      <td>0.0</td>\n",
       "      <td>0.0</td>\n",
       "      <td>0.0</td>\n",
       "      <td>0.0</td>\n",
       "      <td>0.0</td>\n",
       "      <td>0.0</td>\n",
       "      <td>...</td>\n",
       "      <td>0.0</td>\n",
       "      <td>0.0</td>\n",
       "      <td>0.0</td>\n",
       "      <td>0.0</td>\n",
       "      <td>0.0</td>\n",
       "      <td>0.0</td>\n",
       "      <td>0.0</td>\n",
       "      <td>0.0</td>\n",
       "      <td>0.0</td>\n",
       "      <td>0.0</td>\n",
       "    </tr>\n",
       "    <tr>\n",
       "      <th>4</th>\n",
       "      <td>0.0</td>\n",
       "      <td>0.0</td>\n",
       "      <td>0.0</td>\n",
       "      <td>0.0</td>\n",
       "      <td>0.0</td>\n",
       "      <td>0.0</td>\n",
       "      <td>0.0</td>\n",
       "      <td>0.0</td>\n",
       "      <td>0.0</td>\n",
       "      <td>0.0</td>\n",
       "      <td>...</td>\n",
       "      <td>0.0</td>\n",
       "      <td>0.0</td>\n",
       "      <td>0.0</td>\n",
       "      <td>0.0</td>\n",
       "      <td>0.0</td>\n",
       "      <td>0.0</td>\n",
       "      <td>0.0</td>\n",
       "      <td>0.0</td>\n",
       "      <td>0.0</td>\n",
       "      <td>0.0</td>\n",
       "    </tr>\n",
       "  </tbody>\n",
       "</table>\n",
       "<p>5 rows × 1513 columns</p>\n",
       "</div>"
      ],
      "text/plain": [
       "   abate  abater  ability  abominate  aborigine  abram  abuse   ac  \\\n",
       "0    0.0     0.0      0.0        0.0        0.0    0.0    0.0  0.0   \n",
       "1    0.0     0.0      0.0        0.0        0.0    0.0    0.0  0.0   \n",
       "2    0.0     0.0      0.0        0.0        0.0    0.0    0.0  0.0   \n",
       "3    0.0     0.0      0.0        0.0        0.0    0.0    0.0  0.0   \n",
       "4    0.0     0.0      0.0        0.0        0.0    0.0    0.0  0.0   \n",
       "\n",
       "   acceptance  accessory  ...  xual  xylene  yeager  yeah  yellowstone  york  \\\n",
       "0         0.0        0.0  ...   0.0     0.0     0.0   0.0          0.0   0.0   \n",
       "1         0.0        0.0  ...   0.0     0.0     0.0   0.0          0.0   0.0   \n",
       "2         0.0        0.0  ...   0.0     0.0     0.0   0.0          0.0   0.0   \n",
       "3         0.0        0.0  ...   0.0     0.0     0.0   0.0          0.0   0.0   \n",
       "4         0.0        0.0  ...   0.0     0.0     0.0   0.0          0.0   0.0   \n",
       "\n",
       "   yvette  yvonne  zenith  zesty  \n",
       "0     0.0     0.0     0.0    0.0  \n",
       "1     0.0     0.0     0.0    0.0  \n",
       "2     0.0     0.0     0.0    0.0  \n",
       "3     0.0     0.0     0.0    0.0  \n",
       "4     0.0     0.0     0.0    0.0  \n",
       "\n",
       "[5 rows x 1513 columns]"
      ]
     },
     "execution_count": 79,
     "metadata": {},
     "output_type": "execute_result"
    }
   ],
   "source": [
    "train_tfidf_df = pd.DataFrame(train_tfidf_matrix.toarray(), columns=cv.get_feature_names())\n",
    "train_tfidf_df.head()"
   ]
  },
  {
   "cell_type": "code",
   "execution_count": 89,
   "metadata": {},
   "outputs": [
    {
     "data": {
      "text/html": [
       "<div>\n",
       "<style scoped>\n",
       "    .dataframe tbody tr th:only-of-type {\n",
       "        vertical-align: middle;\n",
       "    }\n",
       "\n",
       "    .dataframe tbody tr th {\n",
       "        vertical-align: top;\n",
       "    }\n",
       "\n",
       "    .dataframe thead th {\n",
       "        text-align: right;\n",
       "    }\n",
       "</style>\n",
       "<table border=\"1\" class=\"dataframe\">\n",
       "  <thead>\n",
       "    <tr style=\"text-align: right;\">\n",
       "      <th></th>\n",
       "      <th>abate</th>\n",
       "      <th>abater</th>\n",
       "      <th>ability</th>\n",
       "      <th>abominate</th>\n",
       "      <th>aborigine</th>\n",
       "      <th>abram</th>\n",
       "      <th>abuse</th>\n",
       "      <th>ac</th>\n",
       "      <th>acceptance</th>\n",
       "      <th>accessory</th>\n",
       "      <th>...</th>\n",
       "      <th>xual</th>\n",
       "      <th>xylene</th>\n",
       "      <th>yeager</th>\n",
       "      <th>yeah</th>\n",
       "      <th>yellowstone</th>\n",
       "      <th>york</th>\n",
       "      <th>yvette</th>\n",
       "      <th>yvonne</th>\n",
       "      <th>zenith</th>\n",
       "      <th>zesty</th>\n",
       "    </tr>\n",
       "  </thead>\n",
       "  <tbody>\n",
       "    <tr>\n",
       "      <th>0</th>\n",
       "      <td>0.0</td>\n",
       "      <td>0.0</td>\n",
       "      <td>0.0</td>\n",
       "      <td>0.0</td>\n",
       "      <td>0.0</td>\n",
       "      <td>0.0</td>\n",
       "      <td>0.0</td>\n",
       "      <td>0.0</td>\n",
       "      <td>0.0</td>\n",
       "      <td>0.0</td>\n",
       "      <td>...</td>\n",
       "      <td>0.0</td>\n",
       "      <td>0.0</td>\n",
       "      <td>0.0</td>\n",
       "      <td>0.0</td>\n",
       "      <td>0.0</td>\n",
       "      <td>0.0</td>\n",
       "      <td>0.0</td>\n",
       "      <td>0.0</td>\n",
       "      <td>0.0</td>\n",
       "      <td>0.0</td>\n",
       "    </tr>\n",
       "    <tr>\n",
       "      <th>1</th>\n",
       "      <td>0.0</td>\n",
       "      <td>0.0</td>\n",
       "      <td>0.0</td>\n",
       "      <td>0.0</td>\n",
       "      <td>0.0</td>\n",
       "      <td>0.0</td>\n",
       "      <td>0.0</td>\n",
       "      <td>0.0</td>\n",
       "      <td>0.0</td>\n",
       "      <td>0.0</td>\n",
       "      <td>...</td>\n",
       "      <td>0.0</td>\n",
       "      <td>0.0</td>\n",
       "      <td>0.0</td>\n",
       "      <td>0.0</td>\n",
       "      <td>0.0</td>\n",
       "      <td>0.0</td>\n",
       "      <td>0.0</td>\n",
       "      <td>0.0</td>\n",
       "      <td>0.0</td>\n",
       "      <td>0.0</td>\n",
       "    </tr>\n",
       "    <tr>\n",
       "      <th>2</th>\n",
       "      <td>0.0</td>\n",
       "      <td>0.0</td>\n",
       "      <td>0.0</td>\n",
       "      <td>0.0</td>\n",
       "      <td>0.0</td>\n",
       "      <td>0.0</td>\n",
       "      <td>0.0</td>\n",
       "      <td>0.0</td>\n",
       "      <td>0.0</td>\n",
       "      <td>0.0</td>\n",
       "      <td>...</td>\n",
       "      <td>0.0</td>\n",
       "      <td>0.0</td>\n",
       "      <td>0.0</td>\n",
       "      <td>0.0</td>\n",
       "      <td>0.0</td>\n",
       "      <td>0.0</td>\n",
       "      <td>0.0</td>\n",
       "      <td>0.0</td>\n",
       "      <td>0.0</td>\n",
       "      <td>0.0</td>\n",
       "    </tr>\n",
       "    <tr>\n",
       "      <th>3</th>\n",
       "      <td>0.0</td>\n",
       "      <td>0.0</td>\n",
       "      <td>0.0</td>\n",
       "      <td>0.0</td>\n",
       "      <td>0.0</td>\n",
       "      <td>0.0</td>\n",
       "      <td>0.0</td>\n",
       "      <td>0.0</td>\n",
       "      <td>0.0</td>\n",
       "      <td>0.0</td>\n",
       "      <td>...</td>\n",
       "      <td>0.0</td>\n",
       "      <td>0.0</td>\n",
       "      <td>0.0</td>\n",
       "      <td>0.0</td>\n",
       "      <td>0.0</td>\n",
       "      <td>0.0</td>\n",
       "      <td>0.0</td>\n",
       "      <td>0.0</td>\n",
       "      <td>0.0</td>\n",
       "      <td>0.0</td>\n",
       "    </tr>\n",
       "    <tr>\n",
       "      <th>4</th>\n",
       "      <td>0.0</td>\n",
       "      <td>0.0</td>\n",
       "      <td>0.0</td>\n",
       "      <td>0.0</td>\n",
       "      <td>0.0</td>\n",
       "      <td>0.0</td>\n",
       "      <td>0.0</td>\n",
       "      <td>0.0</td>\n",
       "      <td>0.0</td>\n",
       "      <td>0.0</td>\n",
       "      <td>...</td>\n",
       "      <td>0.0</td>\n",
       "      <td>0.0</td>\n",
       "      <td>0.0</td>\n",
       "      <td>0.0</td>\n",
       "      <td>0.0</td>\n",
       "      <td>0.0</td>\n",
       "      <td>0.0</td>\n",
       "      <td>0.0</td>\n",
       "      <td>0.0</td>\n",
       "      <td>0.0</td>\n",
       "    </tr>\n",
       "  </tbody>\n",
       "</table>\n",
       "<p>5 rows × 1513 columns</p>\n",
       "</div>"
      ],
      "text/plain": [
       "   abate  abater  ability  abominate  aborigine  abram  abuse   ac  \\\n",
       "0    0.0     0.0      0.0        0.0        0.0    0.0    0.0  0.0   \n",
       "1    0.0     0.0      0.0        0.0        0.0    0.0    0.0  0.0   \n",
       "2    0.0     0.0      0.0        0.0        0.0    0.0    0.0  0.0   \n",
       "3    0.0     0.0      0.0        0.0        0.0    0.0    0.0  0.0   \n",
       "4    0.0     0.0      0.0        0.0        0.0    0.0    0.0  0.0   \n",
       "\n",
       "   acceptance  accessory  ...  xual  xylene  yeager  yeah  yellowstone  york  \\\n",
       "0         0.0        0.0  ...   0.0     0.0     0.0   0.0          0.0   0.0   \n",
       "1         0.0        0.0  ...   0.0     0.0     0.0   0.0          0.0   0.0   \n",
       "2         0.0        0.0  ...   0.0     0.0     0.0   0.0          0.0   0.0   \n",
       "3         0.0        0.0  ...   0.0     0.0     0.0   0.0          0.0   0.0   \n",
       "4         0.0        0.0  ...   0.0     0.0     0.0   0.0          0.0   0.0   \n",
       "\n",
       "   yvette  yvonne  zenith  zesty  \n",
       "0     0.0     0.0     0.0    0.0  \n",
       "1     0.0     0.0     0.0    0.0  \n",
       "2     0.0     0.0     0.0    0.0  \n",
       "3     0.0     0.0     0.0    0.0  \n",
       "4     0.0     0.0     0.0    0.0  \n",
       "\n",
       "[5 rows x 1513 columns]"
      ]
     },
     "execution_count": 89,
     "metadata": {},
     "output_type": "execute_result"
    }
   ],
   "source": [
    "test_tfidf_df = pd.DataFrame(test_tfidf_matrix.toarray(), columns=cv.get_feature_names())\n",
    "test_tfidf_df.head()"
   ]
  },
  {
   "cell_type": "markdown",
   "metadata": {},
   "source": [
    "# 建立模型"
   ]
  },
  {
   "cell_type": "code",
   "execution_count": 28,
   "metadata": {},
   "outputs": [
    {
     "data": {
      "text/plain": [
       "MultinomialNB(alpha=1.0, class_prior=None, fit_prior=True)"
      ]
     },
     "execution_count": 28,
     "metadata": {},
     "output_type": "execute_result"
    }
   ],
   "source": [
    "mnb = MultinomialNB()\n",
    "mnb.fit(train_tfidf_matrix, y_train)"
   ]
  },
  {
   "cell_type": "markdown",
   "metadata": {},
   "source": [
    "模型在测试集上的正确率"
   ]
  },
  {
   "cell_type": "code",
   "execution_count": 29,
   "metadata": {},
   "outputs": [
    {
     "data": {
      "text/plain": [
       "0.9265274555297757"
      ]
     },
     "execution_count": 29,
     "metadata": {},
     "output_type": "execute_result"
    }
   ],
   "source": [
    "mnb.score(test_tfidf_matrix, y_test)"
   ]
  },
  {
   "cell_type": "code",
   "execution_count": 30,
   "metadata": {},
   "outputs": [],
   "source": [
    "y_pred = mnb.predict_proba(test_tfidf_matrix)\n",
    "fpr, tpr, thresholds = roc_curve(y_test, y_pred[:, 1])\n",
    "auc = auc(fpr, tpr)"
   ]
  },
  {
   "cell_type": "code",
   "execution_count": 34,
   "metadata": {
    "scrolled": false
   },
   "outputs": [
    {
     "data": {
      "text/plain": [
       "Text(0, 0.5, 'tpr')"
      ]
     },
     "execution_count": 34,
     "metadata": {},
     "output_type": "execute_result"
    },
    {
     "data": {
      "image/png": "[encoded data removed]",
      "text/plain": [
       "<Figure size 600x400 with 1 Axes>"
      ]
     },
     "metadata": {},
     "output_type": "display_data"
    }
   ],
   "source": [
    "# roc 曲线\n",
    "plt.figure(figsize=(6, 4), dpi=100)\n",
    "plt.plot(fpr, tpr)\n",
    "plt.title('roc = {:.4f}'.format(auc))\n",
    "plt.xlabel('fpr')\n",
    "plt.ylabel('tpr')"
   ]
  },
  {
   "cell_type": "markdown",
   "metadata": {},
   "source": [
    "到此，就完成了从数据清理到建模的一整套流程了，当然其中还要许多东西可以完善的。"
   ]
  },
  {
   "cell_type": "markdown",
   "metadata": {},
   "source": [
    "# 参考资料"
   ]
  },
  {
   "cell_type": "markdown",
   "metadata": {},
   "source": [
    "1. [朴素贝叶斯 — scikit-learn 0.18.1 documentation](http://sklearn.lzjqsdd.com/modules/naive_bayes.html)\n",
    "2. [词形还原工具对比 · ZMonster's Blog](http://www.zmonster.me/2016/01/21/lemmatization-survey.html)\n",
    "3. [Countvectorizer sklearn example - A Data Analyst](https://adataanalyst.com/scikit-learn/countvectorizer-sklearn-example/)\n",
    "4. [sklearn——朴素贝叶斯文本分类](https://blog.csdn.net/panghaomingme/article/details/54428030)\n",
    "5. [sklearn 实现中文数据集的垃圾邮件分类](https://zhuanlan.zhihu.com/p/49040330)"
   ]
  }
 ],
 "metadata": {
  "kernelspec": {
   "display_name": "Python 3",
   "language": "python",
   "name": "python3"
  },
  "language_info": {
   "codemirror_mode": {
    "name": "ipython",
    "version": 3
   },
   "file_extension": ".py",
   "mimetype": "text/x-python",
   "name": "python",
   "nbconvert_exporter": "python",
   "pygments_lexer": "ipython3",
   "version": "3.6.8"
  }
 },
 "nbformat": 4,
 "nbformat_minor": 2
}
